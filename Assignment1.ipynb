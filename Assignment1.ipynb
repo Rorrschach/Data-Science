{
 "cells": [
  {
   "cell_type": "code",
   "execution_count": 212,
   "metadata": {},
   "outputs": [],
   "source": [
    "import pandas as pd\n",
    "import numpy as np\n",
    "import matplotlib.pyplot as plt\n",
    "import seaborn as sns\n"
   ]
  },
  {
   "cell_type": "code",
   "execution_count": 213,
   "metadata": {},
   "outputs": [
    {
     "data": {
      "text/html": [
       "<div>\n",
       "<style scoped>\n",
       "    .dataframe tbody tr th:only-of-type {\n",
       "        vertical-align: middle;\n",
       "    }\n",
       "\n",
       "    .dataframe tbody tr th {\n",
       "        vertical-align: top;\n",
       "    }\n",
       "\n",
       "    .dataframe thead th {\n",
       "        text-align: right;\n",
       "    }\n",
       "</style>\n",
       "<table border=\"1\" class=\"dataframe\">\n",
       "  <thead>\n",
       "    <tr style=\"text-align: right;\">\n",
       "      <th></th>\n",
       "      <th>Name</th>\n",
       "      <th>Gender</th>\n",
       "      <th>HSSC-1</th>\n",
       "      <th>HSSC-2</th>\n",
       "      <th>CGPA</th>\n",
       "      <th>FavoriteColor</th>\n",
       "      <th>BirthMonth</th>\n",
       "      <th>Weight</th>\n",
       "    </tr>\n",
       "  </thead>\n",
       "  <tbody>\n",
       "    <tr>\n",
       "      <th>0</th>\n",
       "      <td>Muhammad Tayyab</td>\n",
       "      <td>Male</td>\n",
       "      <td>416</td>\n",
       "      <td>512</td>\n",
       "      <td>2.69</td>\n",
       "      <td>Black</td>\n",
       "      <td>December</td>\n",
       "      <td>58.0</td>\n",
       "    </tr>\n",
       "    <tr>\n",
       "      <th>1</th>\n",
       "      <td>NOOR TARIQ RANA</td>\n",
       "      <td>Female</td>\n",
       "      <td>431</td>\n",
       "      <td>490</td>\n",
       "      <td>3.16</td>\n",
       "      <td>Yellow</td>\n",
       "      <td>October</td>\n",
       "      <td>60.0</td>\n",
       "    </tr>\n",
       "    <tr>\n",
       "      <th>2</th>\n",
       "      <td>Yalmaz Ali</td>\n",
       "      <td>Male</td>\n",
       "      <td>395</td>\n",
       "      <td>473</td>\n",
       "      <td>3.44</td>\n",
       "      <td>Blue</td>\n",
       "      <td>March</td>\n",
       "      <td>85.0</td>\n",
       "    </tr>\n",
       "    <tr>\n",
       "      <th>3</th>\n",
       "      <td>Umar Wasim</td>\n",
       "      <td>Male</td>\n",
       "      <td>364</td>\n",
       "      <td>469</td>\n",
       "      <td>2.42</td>\n",
       "      <td>black</td>\n",
       "      <td>October</td>\n",
       "      <td>80.0</td>\n",
       "    </tr>\n",
       "    <tr>\n",
       "      <th>4</th>\n",
       "      <td>Shahzada Mujahid Raza</td>\n",
       "      <td>Male</td>\n",
       "      <td>431</td>\n",
       "      <td>466</td>\n",
       "      <td>3.20</td>\n",
       "      <td>Orange</td>\n",
       "      <td>August</td>\n",
       "      <td>60.0</td>\n",
       "    </tr>\n",
       "  </tbody>\n",
       "</table>\n",
       "</div>"
      ],
      "text/plain": [
       "                    Name  Gender  HSSC-1  HSSC-2  CGPA FavoriteColor  \\\n",
       "0        Muhammad Tayyab    Male     416     512  2.69         Black   \n",
       "1        NOOR TARIQ RANA  Female     431     490  3.16        Yellow   \n",
       "2             Yalmaz Ali    Male     395     473  3.44          Blue   \n",
       "3             Umar Wasim    Male     364     469  2.42         black   \n",
       "4  Shahzada Mujahid Raza    Male     431     466  3.20        Orange   \n",
       "\n",
       "  BirthMonth  Weight  \n",
       "0   December    58.0  \n",
       "1    October    60.0  \n",
       "2      March    85.0  \n",
       "3    October    80.0  \n",
       "4     August    60.0  "
      ]
     },
     "execution_count": 213,
     "metadata": {},
     "output_type": "execute_result"
    }
   ],
   "source": [
    "df = pd.read_csv('the-hello-dataset-fa22.csv')\n",
    "\n",
    "df.head()"
   ]
  },
  {
   "cell_type": "code",
   "execution_count": 214,
   "metadata": {},
   "outputs": [
    {
     "name": "stdout",
     "output_type": "stream",
     "text": [
      "6              Hamza Naveed\n",
      "19              Habib Ullah\n",
      "23     Hafiz Malahim Labib.\n",
      "26         Hamayoun Masroor\n",
      "28           Husnain Ahmed \n",
      "41      HAMNA TARIQ SALEEMI\n",
      "47             Hunain Javed\n",
      "81         Hamza Javed Khan\n",
      "107                    Hina\n",
      "111           Hussain afzal\n",
      "Name: Name, dtype: object\n"
     ]
    }
   ],
   "source": [
    "#List of student whos first name start with H\n",
    "print(df[df['Name'].str.startswith('H')]['Name'])"
   ]
  },
  {
   "cell_type": "code",
   "execution_count": 215,
   "metadata": {},
   "outputs": [
    {
     "data": {
      "text/plain": [
       "41"
      ]
     },
     "execution_count": 215,
     "metadata": {},
     "output_type": "execute_result"
    }
   ],
   "source": [
    "#Print the total number of students who have a three words name (first-middle-surname)\n",
    "df[df['Name'].str.split(' ').str.len() == 3]['Name'].count()\n"
   ]
  },
  {
   "cell_type": "code",
   "execution_count": 216,
   "metadata": {},
   "outputs": [
    {
     "data": {
      "text/plain": [
       "28.35820895522388"
      ]
     },
     "execution_count": 216,
     "metadata": {},
     "output_type": "execute_result"
    }
   ],
   "source": [
    "#percentage of students who have a CGPA of 3.0 or above.\n",
    "df = df.astype({'CGPA': 'float'})\n",
    "df[df['CGPA'] >= 3.0]['CGPA'].count() / df['CGPA'].count() * 100"
   ]
  },
  {
   "cell_type": "code",
   "execution_count": 217,
   "metadata": {},
   "outputs": [
    {
     "data": {
      "image/png": "[encoded data removed]",
      "text/plain": [
       "<Figure size 432x288 with 1 Axes>"
      ]
     },
     "metadata": {},
     "output_type": "display_data"
    }
   ],
   "source": [
    "males = df[df['Gender'].str.lower() == 'male']['Name'].count()\n",
    "females = df[df['Gender'].str.lower() == 'female']['Name'].count()\n",
    "labels = ['Males','Females']\n",
    "sizes = [males,females]\n",
    "plt.pie(sizes, labels=labels,autopct='%1.1f%%')\n",
    "plt.legend()\n",
    "plt.show()"
   ]
  },
  {
   "cell_type": "code",
   "execution_count": 218,
   "metadata": {},
   "outputs": [
    {
     "data": {
      "image/png": "[encoded data removed]",
      "text/plain": [
       "<Figure size 432x288 with 1 Axes>"
      ]
     },
     "metadata": {
      "needs_background": "light"
     },
     "output_type": "display_data"
    }
   ],
   "source": [
    "#CGPA of all male students on a histogram with intervals 2.0-2.5, 2.6-3.0, 3.1-3.5, 3.6-4.0\n",
    "df = df.astype({'CGPA': 'float'})\n",
    "a = df['CGPA']\n",
    "bins = [2.0,2.5,3.0,3.5,4.0]\n",
    "\n",
    "plt.hist(a, bins=bins, edgecolor='black')\n",
    "plt.show()\n"
   ]
  },
  {
   "cell_type": "code",
   "execution_count": 219,
   "metadata": {},
   "outputs": [],
   "source": [
    "# Plot the HSSC-1 marks of all male vs female students on a scatter plot.\n",
    "# df = df.astype({'HSSC-1': 'int'})\n",
    "\n",
    "# males = df[df['Gender'].str.lower() == 'male']\n",
    "# females = df[df['Gender'].str.lower() == 'female']\n",
    "\n"
   ]
  },
  {
   "cell_type": "code",
   "execution_count": 220,
   "metadata": {},
   "outputs": [
    {
     "data": {
      "text/plain": [
       "<AxesSubplot:>"
      ]
     },
     "execution_count": 220,
     "metadata": {},
     "output_type": "execute_result"
    },
    {
     "data": {
      "image/png": "[encoded data removed]",
      "text/plain": [
       "<Figure size 432x288 with 1 Axes>"
      ]
     },
     "metadata": {
      "needs_background": "light"
     },
     "output_type": "display_data"
    }
   ],
   "source": [
    "#Plot the favorite colors of male vs female students on a bar chart\n",
    "(df['FavoriteColor'].str.strip().str).lower().value_counts().plot(kind='bar')\n",
    "# data = df.groupby('FavoriteColor')\n",
    "# data.size().plot(kind='bar')\n"
   ]
  },
  {
   "cell_type": "code",
   "execution_count": 221,
   "metadata": {},
   "outputs": [
    {
     "data": {
      "text/plain": [
       "[<matplotlib.lines.Line2D at 0x1807efd0fd0>]"
      ]
     },
     "execution_count": 221,
     "metadata": {},
     "output_type": "execute_result"
    },
    {
     "data": {
      "image/png": "[encoded data removed]",
      "text/plain": [
       "<Figure size 432x288 with 1 Axes>"
      ]
     },
     "metadata": {
      "needs_background": "light"
     },
     "output_type": "display_data"
    }
   ],
   "source": [
    "#Plot line chart of students and their birth months.\n",
    "birthMonths = {'January': df[df['BirthMonth'].str.lower() == 'january']['Name'].count(),'February': df[df['BirthMonth'].str.lower() == 'february']['Name'].count(),'March': df[df['BirthMonth'].str.lower() == 'march']['Name'].count(),'April': df[df['BirthMonth'].str.lower() == 'april']['Name'].count(),'May': df[df['BirthMonth'].str.lower() == 'may']['Name'].count(),'June': df[df['BirthMonth'].str.lower() == 'june']['Name'].count(),'July': df[df['BirthMonth'].str.lower() == 'july']['Name'].count(),'August': df[df['BirthMonth'].str.lower() == 'august']['Name'].count(),'September': df[df['BirthMonth'].str.lower() == 'september']['Name'].count(),'October': df[df['BirthMonth'].str.lower() == 'october']['Name'].count(),'November': df[df['BirthMonth'].str.lower() == 'november']['Name'].count(),'December': df[df['BirthMonth'].str.lower() == 'december']['Name'].count()}\n",
    "\n",
    "plt.plot(birthMonths.keys(), birthMonths.values())\n"
   ]
  },
  {
   "cell_type": "code",
   "execution_count": 222,
   "metadata": {},
   "outputs": [
    {
     "data": {
      "image/png": "[encoded data removed]",
      "text/plain": [
       "<Figure size 432x288 with 2 Axes>"
      ]
     },
     "metadata": {
      "needs_background": "light"
     },
     "output_type": "display_data"
    }
   ],
   "source": [
    "#Create a correlation matrix between HSSC-1 and HSSC-2 marks and then plot on a heatmap\n",
    "df = df.astype({'HSSC-1': 'int','HSSC-2': 'int'})\n",
    "corr = df[['HSSC-1','HSSC-2']].corr()\n",
    "sns.heatmap(corr, annot=True)\n",
    "plt.show()"
   ]
  }
 ],
 "metadata": {
  "kernelspec": {
   "display_name": "Python 3.9.12 ('base')",
   "language": "python",
   "name": "python3"
  },
  "language_info": {
   "codemirror_mode": {
    "name": "ipython",
    "version": 3
   },
   "file_extension": ".py",
   "mimetype": "text/x-python",
   "name": "python",
   "nbconvert_exporter": "python",
   "pygments_lexer": "ipython3",
   "version": "3.9.12"
  },
  "orig_nbformat": 4,
  "vscode": {
   "interpreter": {
    "hash": "0e8f93af7876eec59dbe1f87a62f7a530914ac6912e7d1ed985d2a1af9e5a20e"
   }
  }
 },
 "nbformat": 4,
 "nbformat_minor": 2
}
