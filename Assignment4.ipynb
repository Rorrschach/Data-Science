{
 "cells": [
  {
   "cell_type": "code",
   "execution_count": 1,
   "metadata": {},
   "outputs": [],
   "source": [
    "#import libraries\n",
    "from sklearn import preprocessing\n",
    "import pandas as pd\n",
    "\n",
    "#import different ML classifiers\n",
    "from sklearn.naive_bayes import GaussianNB, BernoulliNB, MultinomialNB\n",
    "from sklearn.svm import SVC, LinearSVC\n",
    "from sklearn.linear_model import LogisticRegression\n",
    "from sklearn.tree import DecisionTreeClassifier\n",
    "from sklearn.ensemble import RandomForestClassifier\n",
    "from sklearn.neural_network import MLPClassifier\n",
    "#import support vector machine\n",
    "from sklearn import svm\n",
    "\n",
    "\n",
    "#import ML evaluation metrics\n",
    "from sklearn.metrics import accuracy_score, f1_score\n",
    "from sklearn.model_selection import train_test_split\n",
    "from sklearn import metrics, model_selection\n",
    "\n",
    "#import scikitplot to plot confusion matrix\n",
    "import scikitplot as skplt\n",
    "\n",
    "import matplotlib.pyplot as plt\n",
    "import seaborn as sns\n",
    "import numpy as np"
   ]
  },
  {
   "cell_type": "code",
   "execution_count": 2,
   "metadata": {},
   "outputs": [],
   "source": [
    "#import dataset from link\n",
    "url = 'https://drive.google.com/uc?export=download&id=1EKpArZit1OdkfhaKVC3Beku6tkmASu3M'\n",
    "df = pd.read_csv(url)\n"
   ]
  },
  {
   "cell_type": "code",
   "execution_count": 3,
   "metadata": {},
   "outputs": [
    {
     "data": {
      "text/plain": [
       "male      46\n",
       "female    34\n",
       "Name: gender, dtype: int64"
      ]
     },
     "execution_count": 3,
     "metadata": {},
     "output_type": "execute_result"
    }
   ],
   "source": [
    "df['gender'].value_counts()"
   ]
  },
  {
   "cell_type": "code",
   "execution_count": 4,
   "metadata": {},
   "outputs": [],
   "source": [
    "lables = preprocessing.LabelEncoder()\n",
    "columns = ['beard', 'hair_length', 'scarf', 'eye_color',\"gender\"]\n",
    "for col in columns:\n",
    "    df[col] = lables.fit_transform(df[col])\n",
    "\n",
    "\n"
   ]
  },
  {
   "cell_type": "code",
   "execution_count": 5,
   "metadata": {},
   "outputs": [],
   "source": [
    "df = df.rename(columns={'height': 'weight1', 'weight': 'height1'})\n",
    "df = df.rename(columns={'weight1': 'weight', 'height1': 'height'})\n"
   ]
  },
  {
   "cell_type": "code",
   "execution_count": 6,
   "metadata": {},
   "outputs": [],
   "source": [
    "inputs = df.iloc[:, :-1]\n",
    "output = df.iloc[:, -1]"
   ]
  },
  {
   "cell_type": "code",
   "execution_count": 7,
   "metadata": {},
   "outputs": [],
   "source": [
    "#split data into training and testing\n",
    "X_train, X_test, y_train, y_test = train_test_split(inputs, output, test_size=0.33, random_state=1)\n"
   ]
  },
  {
   "cell_type": "code",
   "execution_count": 8,
   "metadata": {},
   "outputs": [
    {
     "name": "stdout",
     "output_type": "stream",
     "text": [
      "Random Forest Classifier\n",
      "Accuracy: 1.0\n",
      "F1 Score: 1.0\n",
      "Confusion Matrix:\n",
      "Correct Predictions: 27\n",
      "Incorrect Predictions: 0\n"
     ]
    },
    {
     "data": {
      "image/png": "[encoded data removed]",
      "text/plain": [
       "<Figure size 432x288 with 2 Axes>"
      ]
     },
     "metadata": {
      "needs_background": "light"
     },
     "output_type": "display_data"
    }
   ],
   "source": [
    "#Random Forest Classifier\n",
    "rfc = RandomForestClassifier()\n",
    "rfc.fit(X_train, y_train)\n",
    "y_pred = rfc.predict(X_test)\n",
    "print(\"Random Forest Classifier\")\n",
    "print(\"Accuracy:\",metrics.accuracy_score(y_test, y_pred))\n",
    "print(\"F1 Score:\",metrics.f1_score(y_test, y_pred, average='weighted'))\n",
    "print(\"Confusion Matrix:\")\n",
    "\n",
    "#print number of correct and incorrect predictions\n",
    "print(\"Correct Predictions:\", metrics.accuracy_score(y_test, y_pred, normalize=False))\n",
    "print(\"Incorrect Predictions:\", len(y_test) - metrics.accuracy_score(y_test, y_pred, normalize=False))\n",
    "\n",
    "skplt.metrics.plot_confusion_matrix(y_test, y_pred, normalize=True)\n",
    "plt.show()"
   ]
  },
  {
   "cell_type": "code",
   "execution_count": 9,
   "metadata": {},
   "outputs": [
    {
     "name": "stdout",
     "output_type": "stream",
     "text": [
      "Support Vector Machine\n",
      "Accuracy: 0.7777777777777778\n",
      "F1 Score: 0.7777777777777778\n",
      "Correct Predictions: 21\n",
      "Incorrect Predictions: 6\n",
      "Confusion Matrix:\n"
     ]
    },
    {
     "data": {
      "image/png": "[encoded data removed]",
      "text/plain": [
       "<Figure size 432x288 with 2 Axes>"
      ]
     },
     "metadata": {
      "needs_background": "light"
     },
     "output_type": "display_data"
    }
   ],
   "source": [
    "#Support Vector Machine\n",
    "svm = SVC()\n",
    "svm.fit(X_train, y_train)\n",
    "y_pred = svm.predict(X_test)\n",
    "print(\"Support Vector Machine\")\n",
    "print(\"Accuracy:\",metrics.accuracy_score(y_test, y_pred))\n",
    "print(\"F1 Score:\",metrics.f1_score(y_test, y_pred, average='weighted'))\n",
    "\n",
    "#print number of correct and incorrect predictions\n",
    "print(\"Correct Predictions:\", metrics.accuracy_score(y_test, y_pred, normalize=False))\n",
    "print(\"Incorrect Predictions:\", len(y_test) - metrics.accuracy_score(y_test, y_pred, normalize=False))\n",
    "print(\"Confusion Matrix:\")\n",
    "skplt.metrics.plot_confusion_matrix(y_test, y_pred, normalize=True)\n",
    "plt.show()\n"
   ]
  },
  {
   "cell_type": "code",
   "execution_count": 10,
   "metadata": {},
   "outputs": [
    {
     "name": "stdout",
     "output_type": "stream",
     "text": [
      "Multilayer Perceptron\n",
      "Accuracy: 0.48148148148148145\n",
      "F1 Score: 0.312962962962963\n",
      "Correct Predictions: 13\n",
      "Incorrect Predictions: 14\n",
      "Confusion Matrix:\n"
     ]
    },
    {
     "data": {
      "image/png": "[encoded data removed]",
      "text/plain": [
       "<Figure size 432x288 with 2 Axes>"
      ]
     },
     "metadata": {
      "needs_background": "light"
     },
     "output_type": "display_data"
    }
   ],
   "source": [
    "#Multilayer Perceptron\n",
    "mlp = MLPClassifier()\n",
    "mlp.fit(X_train, y_train)\n",
    "y_pred = mlp.predict(X_test)\n",
    "print(\"Multilayer Perceptron\")\n",
    "print(\"Accuracy:\",metrics.accuracy_score(y_test, y_pred))\n",
    "print(\"F1 Score:\",metrics.f1_score(y_test, y_pred, average='weighted'))\n",
    "\n",
    "#print number of correct and incorrect predictions\n",
    "print(\"Correct Predictions:\", metrics.accuracy_score(y_test, y_pred, normalize=False))\n",
    "print(\"Incorrect Predictions:\", len(y_test) - metrics.accuracy_score(y_test, y_pred, normalize=False))\n",
    "print(\"Confusion Matrix:\")\n",
    "skplt.metrics.plot_confusion_matrix(y_test, y_pred, normalize=True)\n",
    "plt.show()\n"
   ]
  },
  {
   "cell_type": "code",
   "execution_count": 11,
   "metadata": {},
   "outputs": [],
   "source": [
    "X_train, X_test, y_train, y_test = train_test_split(inputs, output, test_size=0.2, random_state=1)\n"
   ]
  },
  {
   "cell_type": "code",
   "execution_count": 12,
   "metadata": {},
   "outputs": [
    {
     "name": "stdout",
     "output_type": "stream",
     "text": [
      "Random Forest Classifier\n",
      "Accuracy: 1.0\n",
      "F1 Score: 1.0\n",
      "Correct Predictions: 16\n",
      "Incorrect Predictions: 0\n",
      "Confusion Matrix:\n"
     ]
    },
    {
     "data": {
      "image/png": "[encoded data removed]",
      "text/plain": [
       "<Figure size 432x288 with 2 Axes>"
      ]
     },
     "metadata": {
      "needs_background": "light"
     },
     "output_type": "display_data"
    }
   ],
   "source": [
    "#random forest classifier\n",
    "rfc = RandomForestClassifier()\n",
    "rfc.fit(X_train, y_train)\n",
    "y_pred = rfc.predict(X_test)\n",
    "print(\"Random Forest Classifier\")\n",
    "print(\"Accuracy:\",metrics.accuracy_score(y_test, y_pred))\n",
    "print(\"F1 Score:\",metrics.f1_score(y_test, y_pred, average='weighted'))\n",
    "\n",
    "#print number of correct and incorrect predictions\n",
    "print(\"Correct Predictions:\", metrics.accuracy_score(y_test, y_pred, normalize=False))\n",
    "print(\"Incorrect Predictions:\", len(y_test) - metrics.accuracy_score(y_test, y_pred, normalize=False))\n",
    "print(\"Confusion Matrix:\")\n",
    "skplt.metrics.plot_confusion_matrix(y_test, y_pred, normalize=True)\n",
    "plt.show()\n"
   ]
  },
  {
   "cell_type": "code",
   "execution_count": 13,
   "metadata": {},
   "outputs": [
    {
     "name": "stdout",
     "output_type": "stream",
     "text": [
      "Support Vector Machine\n",
      "Accuracy: 0.875\n",
      "F1 Score: 0.875\n",
      "Correct Predictions: 14\n",
      "Incorrect Predictions: 2\n",
      "Confusion Matrix:\n"
     ]
    },
    {
     "data": {
      "image/png": "[encoded data removed]",
      "text/plain": [
       "<Figure size 432x288 with 2 Axes>"
      ]
     },
     "metadata": {
      "needs_background": "light"
     },
     "output_type": "display_data"
    }
   ],
   "source": [
    "\n",
    "#Support Vector Machine\n",
    "svm = SVC()\n",
    "svm.fit(X_train, y_train)\n",
    "y_pred = svm.predict(X_test)\n",
    "print(\"Support Vector Machine\")\n",
    "print(\"Accuracy:\",metrics.accuracy_score(y_test, y_pred))\n",
    "print(\"F1 Score:\",metrics.f1_score(y_test, y_pred, average='weighted'))\n",
    "\n",
    "#print number of correct and incorrect predictions\n",
    "print(\"Correct Predictions:\", metrics.accuracy_score(y_test, y_pred, normalize=False))\n",
    "print(\"Incorrect Predictions:\", len(y_test) - metrics.accuracy_score(y_test, y_pred, normalize=False))\n",
    "print(\"Confusion Matrix:\")\n",
    "skplt.metrics.plot_confusion_matrix(y_test, y_pred, normalize=True)\n",
    "plt.show()\n"
   ]
  },
  {
   "cell_type": "code",
   "execution_count": 14,
   "metadata": {},
   "outputs": [
    {
     "name": "stdout",
     "output_type": "stream",
     "text": [
      "Multilayer Perceptron\n",
      "Accuracy: 0.4375\n",
      "F1 Score: 0.266304347826087\n",
      "Correct Predictions: 7\n",
      "Incorrect Predictions: 9\n",
      "Confusion Matrix:\n"
     ]
    },
    {
     "data": {
      "image/png": "[encoded data removed]",
      "text/plain": [
       "<Figure size 432x288 with 2 Axes>"
      ]
     },
     "metadata": {
      "needs_background": "light"
     },
     "output_type": "display_data"
    }
   ],
   "source": [
    "\n",
    "#Multilayer Perceptron\n",
    "mlp = MLPClassifier()\n",
    "mlp.fit(X_train, y_train)\n",
    "y_pred = mlp.predict(X_test)\n",
    "print(\"Multilayer Perceptron\")\n",
    "print(\"Accuracy:\",metrics.accuracy_score(y_test, y_pred))\n",
    "print(\"F1 Score:\",metrics.f1_score(y_test, y_pred, average='weighted'))\n",
    "\n",
    "#print number of correct and incorrect predictions\n",
    "print(\"Correct Predictions:\", metrics.accuracy_score(y_test, y_pred, normalize=False))\n",
    "print(\"Incorrect Predictions:\", len(y_test) - metrics.accuracy_score(y_test, y_pred, normalize=False))\n",
    "print(\"Confusion Matrix:\")\n",
    "skplt.metrics.plot_confusion_matrix(y_test, y_pred, normalize=True)\n",
    "plt.show()"
   ]
  },
  {
   "cell_type": "code",
   "execution_count": 15,
   "metadata": {},
   "outputs": [
    {
     "name": "stderr",
     "output_type": "stream",
     "text": [
      "No artists with labels found to put in legend.  Note that artists whose label start with an underscore are ignored when legend() is called with no argument.\n"
     ]
    },
    {
     "name": "stdout",
     "output_type": "stream",
     "text": [
      "shoe_size      0.421193\n",
      "weight         0.187946\n",
      "beard          0.140880\n",
      "height         0.084825\n",
      "scarf          0.073290\n",
      "eye_color      0.058833\n",
      "hair_length    0.033033\n",
      "dtype: float64\n"
     ]
    },
    {
     "data": {
      "image/png": "[encoded data removed]",
      "text/plain": [
       "<Figure size 432x288 with 1 Axes>"
      ]
     },
     "metadata": {
      "needs_background": "light"
     },
     "output_type": "display_data"
    }
   ],
   "source": [
    "#check feature importance\n",
    "feature_imp = pd.Series(rfc.feature_importances_,index=inputs.columns).sort_values(ascending=False)\n",
    "print(feature_imp)\n",
    "\n",
    "#plot feature importance\n",
    "sns.barplot(x=feature_imp, y=feature_imp.index)\n",
    "plt.xlabel('Feature Importance Score')\n",
    "plt.ylabel('Features')\n",
    "plt.title(\"Visualizing Important Features\")\n",
    "plt.legend()\n",
    "plt.show()"
   ]
  },
  {
   "cell_type": "code",
   "execution_count": 16,
   "metadata": {},
   "outputs": [
    {
     "name": "stdout",
     "output_type": "stream",
     "text": [
      "Random Forest Classifier\n",
      "Accuracy: 1.0\n",
      "F1 Score: 1.0\n",
      "Correct Predictions: 16\n",
      "Incorrect Predictions: 0\n",
      "Support Vector Machine\n",
      "Accuracy: 0.875\n",
      "F1 Score: 0.875\n",
      "Correct Predictions: 14\n",
      "Incorrect Predictions: 2\n",
      "Multilayer Perceptron\n",
      "Accuracy: 0.75\n",
      "F1 Score: 0.7420634920634921\n",
      "Correct Predictions: 12\n",
      "Incorrect Predictions: 4\n"
     ]
    }
   ],
   "source": [
    "#prove that shoe size is not a good predictor\n",
    "inputs = df\n",
    "inputs = inputs.drop(['shoe_size'], axis=1)\n",
    "inputs = inputs.drop(['weight'], axis=1)\n",
    "\n",
    "#split data into training and testing\n",
    "X_train, X_test, y_train, y_test = train_test_split(inputs, output, test_size=0.2, random_state=1)\n",
    "\n",
    "#random forest classifier\n",
    "rfc = RandomForestClassifier()\n",
    "rfc.fit(X_train, y_train)\n",
    "y_pred = rfc.predict(X_test)\n",
    "print(\"Random Forest Classifier\")\n",
    "print(\"Accuracy:\",metrics.accuracy_score(y_test, y_pred))\n",
    "print(\"F1 Score:\",metrics.f1_score(y_test, y_pred, average='weighted'))\n",
    "\n",
    "#print number of correct and incorrect predictions\n",
    "print(\"Correct Predictions:\", metrics.accuracy_score(y_test, y_pred, normalize=False))\n",
    "print(\"Incorrect Predictions:\", len(y_test) - metrics.accuracy_score(y_test, y_pred, normalize=False))\n",
    "\n",
    "\n",
    "\n",
    "#Support Vector Machine\n",
    "svm = SVC()\n",
    "svm.fit(X_train, y_train)\n",
    "y_pred = svm.predict(X_test)\n",
    "print(\"Support Vector Machine\")\n",
    "print(\"Accuracy:\",metrics.accuracy_score(y_test, y_pred))\n",
    "print(\"F1 Score:\",metrics.f1_score(y_test, y_pred, average='weighted'))\n",
    "\n",
    "#print number of correct and incorrect predictions\n",
    "print(\"Correct Predictions:\", metrics.accuracy_score(y_test, y_pred, normalize=False))\n",
    "print(\"Incorrect Predictions:\", len(y_test) - metrics.accuracy_score(y_test, y_pred, normalize=False))\n",
    "\n",
    "#Multilayer Perceptron\n",
    "mlp = MLPClassifier()\n",
    "mlp.fit(X_train, y_train)\n",
    "y_pred = mlp.predict(X_test)\n",
    "print(\"Multilayer Perceptron\")\n",
    "print(\"Accuracy:\",metrics.accuracy_score(y_test, y_pred))\n",
    "print(\"F1 Score:\",metrics.f1_score(y_test, y_pred, average='weighted'))\n",
    "\n",
    "#print number of correct and incorrect predictions\n",
    "print(\"Correct Predictions:\", metrics.accuracy_score(y_test, y_pred, normalize=False))\n",
    "print(\"Incorrect Predictions:\", len(y_test) - metrics.accuracy_score(y_test, y_pred, normalize=False))\n"
   ]
  },
  {
   "cell_type": "code",
   "execution_count": 22,
   "metadata": {},
   "outputs": [
    {
     "data": {
      "text/plain": [
       "array([1, 1, 0, 0, 1, 1, 1, 1, 0, 0, 0, 1, 1, 0, 1, 1, 1, 0, 0, 0, 0, 1,\n",
       "       1, 1, 0, 1, 1, 0, 0, 0, 0, 1, 0, 0, 0, 1, 0, 1, 0, 0, 0, 1, 1, 1,\n",
       "       1, 1, 1, 1, 1, 1, 1, 1, 1, 1, 0, 1, 1, 0, 1, 1, 1, 1, 1, 0, 0, 1,\n",
       "       0, 1, 0, 1, 0, 1, 1, 0, 0, 0, 0, 1, 1, 0])"
      ]
     },
     "execution_count": 22,
     "metadata": {},
     "output_type": "execute_result"
    }
   ],
   "source": [
    "# Apply Decision Tree Classifier classification algorithm (using Python) on the gender prediction dataset\n",
    "# with Monte Carlo cross-validation and Leave P-Out cross-validation. Report F1 score for both cross-validation\n",
    "# strategies.\n",
    "# Note: You are free to choose any parameter values for both cross-validation strategies, however, you have to\n",
    "# provide these values in your submission document.\n",
    "\n",
    "# Decision Tree Classifier\n",
    "# Apply Decision Tree Classifier classification algorithm (using Python) \n",
    "\n",
    "# Importing the libraries that are not already imported \n",
    "import numpy as np\n",
    "import matplotlib.pyplot as plt\n",
    "import pandas as pd\n",
    "import sklearn\n",
    "from sklearn.tree import DecisionTreeClassifier\n",
    "from sklearn.model_selection import train_test_split\n",
    "from sklearn.metrics import confusion_matrix\n",
    "from sklearn.metrics import accuracy_score\n",
    "from sklearn.metrics import f1_score\n",
    "from sklearn.model_selection import cross_val_score\n",
    "from sklearn.model_selection import LeavePOut\n",
    "from sklearn.model_selection import KFold\n",
    "from sklearn.model_selection import StratifiedKFold\n",
    "from sklearn.model_selection import ShuffleSplit\n",
    "from sklearn.model_selection import StratifiedShuffleSplit\n",
    "from sklearn.model_selection import LeaveOneOut\n",
    "\n",
    "# Importing the dataset\n",
    "dataset = df\n",
    "X = dataset.iloc[:, 0:6].values\n",
    "y = dataset.iloc[:, 7].values\n",
    "\n",
    "# Splitting the dataset into the Training set and Test set\n",
    "X_train, X_test, y_train, y_test = train_test_split(X, y, test_size = 0.2, random_state = 0)\n",
    "\n",
    "# Fitting Decision Tree Classification to the Training set\n",
    "classifier = DecisionTreeClassifier(criterion = 'entropy', random_state = 0)\n",
    "classifier.fit(X_train, y_train)\n",
    "\n",
    "# Predicting the Test set results\n",
    "y_pred = classifier.predict(X_test)\n",
    "y\n",
    "# Making the Confusion Matrix\n",
    "# cm = confusion_matrix(y_test, y_pred)\n",
    "# print(cm)\n",
    "\n",
    "# # Accuracy\n",
    "# accuracy = accuracy_score(y_test, y_pred)\n",
    "# print(accuracy)\n",
    "\n",
    "# # F1 Score\n",
    "# f1 = f1_score(y_test, y_pred, average='weighted')\n",
    "# print(f1)\n",
    "\n",
    "# # Applying k-Fold Cross Validation\n",
    "# accuracies = cross_val_score(estimator = classifier, X = X_train, y = y_train, cv = 10)\n",
    "# print(accuracies.mean())\n",
    "# print(accuracies.std())\n",
    "\n",
    "# # Applying Monte Carlo Cross Validation\n",
    "# accuracies = cross_val_score(estimator = classifier, X = X_train, y = y_train, cv = ShuffleSplit(n_splits=10, test_size=0.2, random_state=0))\n",
    "# print(accuracies.mean())\n",
    "# print(accuracies.std())\n",
    "\n",
    "# # Applying Leave P-Out Cross Validation\n",
    "# accuracies = cross_val_score(estimator = classifier, X = X_train, y = y_train, cv = LeavePOut(p=2))\n",
    "# print(accuracies.mean())\n",
    "# print(accuracies.std())\n",
    "\n"
   ]
  }
 ],
 "metadata": {
  "kernelspec": {
   "display_name": "base",
   "language": "python",
   "name": "python3"
  },
  "language_info": {
   "codemirror_mode": {
    "name": "ipython",
    "version": 3
   },
   "file_extension": ".py",
   "mimetype": "text/x-python",
   "name": "python",
   "nbconvert_exporter": "python",
   "pygments_lexer": "ipython3",
   "version": "3.9.12"
  },
  "orig_nbformat": 4,
  "vscode": {
   "interpreter": {
    "hash": "0e8f93af7876eec59dbe1f87a62f7a530914ac6912e7d1ed985d2a1af9e5a20e"
   }
  }
 },
 "nbformat": 4,
 "nbformat_minor": 2
}
