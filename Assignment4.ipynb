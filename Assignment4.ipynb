{
 "cells": [
  {
   "cell_type": "code",
   "execution_count": 18,
   "metadata": {},
   "outputs": [],
   "source": [
    "#import libraries\n",
    "from sklearn import preprocessing\n",
    "import pandas as pd\n",
    "\n",
    "#import different ML classifiers\n",
    "from sklearn.naive_bayes import GaussianNB, BernoulliNB, MultinomialNB\n",
    "from sklearn.svm import SVC, LinearSVC\n",
    "from sklearn.linear_model import LogisticRegression\n",
    "from sklearn.tree import DecisionTreeClassifier\n",
    "from sklearn.ensemble import RandomForestClassifier\n",
    "from sklearn.neural_network import MLPClassifier\n",
    "#import support vector machine\n",
    "from sklearn import svm\n",
    "\n",
    "\n",
    "#import ML evaluation metrics\n",
    "from sklearn.metrics import accuracy_score, f1_score\n",
    "from sklearn.model_selection import train_test_split\n",
    "from sklearn import metrics, model_selection\n",
    "\n",
    "#import scikitplot to plot confusion matrix\n",
    "import scikitplot as skplt\n",
    "\n",
    "import matplotlib.pyplot as plt\n",
    "import seaborn as sns\n",
    "import numpy as np"
   ]
  },
  {
   "cell_type": "code",
   "execution_count": 19,
   "metadata": {},
   "outputs": [],
   "source": [
    "#import dataset from link\n",
    "url = 'https://drive.google.com/uc?export=download&id=1EKpArZit1OdkfhaKVC3Beku6tkmASu3M'\n",
    "df = pd.read_csv(url)\n"
   ]
  },
  {
   "cell_type": "code",
   "execution_count": 20,
   "metadata": {},
   "outputs": [
    {
     "data": {
      "text/plain": [
       "male      46\n",
       "female    34\n",
       "Name: gender, dtype: int64"
      ]
     },
     "execution_count": 20,
     "metadata": {},
     "output_type": "execute_result"
    }
   ],
   "source": [
    "df['gender'].value_counts()"
   ]
  },
  {
   "cell_type": "code",
   "execution_count": 21,
   "metadata": {},
   "outputs": [],
   "source": [
    "lables = preprocessing.LabelEncoder()\n",
    "columns = ['beard', 'hair_length', 'scarf', 'eye_color',\"gender\"]\n",
    "for col in columns:\n",
    "    df[col] = lables.fit_transform(df[col])\n",
    "\n",
    "\n"
   ]
  },
  {
   "cell_type": "code",
   "execution_count": 22,
   "metadata": {},
   "outputs": [],
   "source": [
    "df = df.rename(columns={'height': 'weight1', 'weight': 'height1'})\n",
    "df = df.rename(columns={'weight1': 'weight', 'height1': 'height'})\n"
   ]
  },
  {
   "cell_type": "code",
   "execution_count": 23,
   "metadata": {},
   "outputs": [],
   "source": [
    "inputs = df.iloc[:, :-1]\n",
    "output = df.iloc[:, -1]"
   ]
  },
  {
   "cell_type": "code",
   "execution_count": 24,
   "metadata": {},
   "outputs": [],
   "source": [
    "#split data into training and testing\n",
    "X_train, X_test, y_train, y_test = train_test_split(inputs, output, test_size=0.33, random_state=1)\n"
   ]
  },
  {
   "cell_type": "code",
   "execution_count": 25,
   "metadata": {},
   "outputs": [
    {
     "name": "stdout",
     "output_type": "stream",
     "text": [
      "Random Forest Classifier\n",
      "Accuracy: 1.0\n",
      "F1 Score: 1.0\n",
      "Confusion Matrix:\n",
      "Correct Predictions: 27\n",
      "Incorrect Predictions: 0\n"
     ]
    },
    {
     "data": {
      "image/png": "[encoded data removed]",
      "text/plain": [
       "<Figure size 432x288 with 2 Axes>"
      ]
     },
     "metadata": {
      "needs_background": "light"
     },
     "output_type": "display_data"
    }
   ],
   "source": [
    "#Random Forest Classifier\n",
    "rfc = RandomForestClassifier()\n",
    "rfc.fit(X_train, y_train)\n",
    "y_pred = rfc.predict(X_test)\n",
    "print(\"Random Forest Classifier\")\n",
    "print(\"Accuracy:\",metrics.accuracy_score(y_test, y_pred))\n",
    "print(\"F1 Score:\",metrics.f1_score(y_test, y_pred, average='weighted'))\n",
    "print(\"Confusion Matrix:\")\n",
    "\n",
    "#print number of correct and incorrect predictions\n",
    "print(\"Correct Predictions:\", metrics.accuracy_score(y_test, y_pred, normalize=False))\n",
    "print(\"Incorrect Predictions:\", len(y_test) - metrics.accuracy_score(y_test, y_pred, normalize=False))\n",
    "\n",
    "skplt.metrics.plot_confusion_matrix(y_test, y_pred, normalize=True)\n",
    "plt.show()"
   ]
  },
  {
   "cell_type": "code",
   "execution_count": 26,
   "metadata": {},
   "outputs": [
    {
     "name": "stdout",
     "output_type": "stream",
     "text": [
      "Support Vector Machine\n",
      "Accuracy: 0.7777777777777778\n",
      "F1 Score: 0.7777777777777778\n",
      "Correct Predictions: 21\n",
      "Incorrect Predictions: 6\n",
      "Confusion Matrix:\n"
     ]
    },
    {
     "data": {
      "image/png": "[encoded data removed]",
      "text/plain": [
       "<Figure size 432x288 with 2 Axes>"
      ]
     },
     "metadata": {
      "needs_background": "light"
     },
     "output_type": "display_data"
    }
   ],
   "source": [
    "#Support Vector Machine\n",
    "svm = SVC()\n",
    "svm.fit(X_train, y_train)\n",
    "y_pred = svm.predict(X_test)\n",
    "print(\"Support Vector Machine\")\n",
    "print(\"Accuracy:\",metrics.accuracy_score(y_test, y_pred))\n",
    "print(\"F1 Score:\",metrics.f1_score(y_test, y_pred, average='weighted'))\n",
    "\n",
    "#print number of correct and incorrect predictions\n",
    "print(\"Correct Predictions:\", metrics.accuracy_score(y_test, y_pred, normalize=False))\n",
    "print(\"Incorrect Predictions:\", len(y_test) - metrics.accuracy_score(y_test, y_pred, normalize=False))\n",
    "print(\"Confusion Matrix:\")\n",
    "skplt.metrics.plot_confusion_matrix(y_test, y_pred, normalize=True)\n",
    "plt.show()\n"
   ]
  },
  {
   "cell_type": "code",
   "execution_count": 27,
   "metadata": {},
   "outputs": [
    {
     "name": "stdout",
     "output_type": "stream",
     "text": [
      "Multilayer Perceptron\n",
      "Accuracy: 0.48148148148148145\n",
      "F1 Score: 0.312962962962963\n",
      "Correct Predictions: 13\n",
      "Incorrect Predictions: 14\n",
      "Confusion Matrix:\n"
     ]
    },
    {
     "data": {
      "image/png": "[encoded data removed]",
      "text/plain": [
       "<Figure size 432x288 with 2 Axes>"
      ]
     },
     "metadata": {
      "needs_background": "light"
     },
     "output_type": "display_data"
    }
   ],
   "source": [
    "#Multilayer Perceptron\n",
    "mlp = MLPClassifier()\n",
    "mlp.fit(X_train, y_train)\n",
    "y_pred = mlp.predict(X_test)\n",
    "print(\"Multilayer Perceptron\")\n",
    "print(\"Accuracy:\",metrics.accuracy_score(y_test, y_pred))\n",
    "print(\"F1 Score:\",metrics.f1_score(y_test, y_pred, average='weighted'))\n",
    "\n",
    "#print number of correct and incorrect predictions\n",
    "print(\"Correct Predictions:\", metrics.accuracy_score(y_test, y_pred, normalize=False))\n",
    "print(\"Incorrect Predictions:\", len(y_test) - metrics.accuracy_score(y_test, y_pred, normalize=False))\n",
    "print(\"Confusion Matrix:\")\n",
    "skplt.metrics.plot_confusion_matrix(y_test, y_pred, normalize=True)\n",
    "plt.show()\n"
   ]
  },
  {
   "cell_type": "code",
   "execution_count": 28,
   "metadata": {},
   "outputs": [],
   "source": [
    "X_train, X_test, y_train, y_test = train_test_split(inputs, output, test_size=0.2, random_state=1)\n"
   ]
  },
  {
   "cell_type": "code",
   "execution_count": 29,
   "metadata": {},
   "outputs": [
    {
     "name": "stdout",
     "output_type": "stream",
     "text": [
      "Random Forest Classifier\n",
      "Accuracy: 1.0\n",
      "F1 Score: 1.0\n",
      "Correct Predictions: 16\n",
      "Incorrect Predictions: 0\n",
      "Confusion Matrix:\n"
     ]
    },
    {
     "data": {
      "image/png": "[encoded data removed]",
      "text/plain": [
       "<Figure size 432x288 with 2 Axes>"
      ]
     },
     "metadata": {
      "needs_background": "light"
     },
     "output_type": "display_data"
    }
   ],
   "source": [
    "#random forest classifier\n",
    "rfc = RandomForestClassifier()\n",
    "rfc.fit(X_train, y_train)\n",
    "y_pred = rfc.predict(X_test)\n",
    "print(\"Random Forest Classifier\")\n",
    "print(\"Accuracy:\",metrics.accuracy_score(y_test, y_pred))\n",
    "print(\"F1 Score:\",metrics.f1_score(y_test, y_pred, average='weighted'))\n",
    "\n",
    "#print number of correct and incorrect predictions\n",
    "print(\"Correct Predictions:\", metrics.accuracy_score(y_test, y_pred, normalize=False))\n",
    "print(\"Incorrect Predictions:\", len(y_test) - metrics.accuracy_score(y_test, y_pred, normalize=False))\n",
    "print(\"Confusion Matrix:\")\n",
    "skplt.metrics.plot_confusion_matrix(y_test, y_pred, normalize=True)\n",
    "plt.show()\n"
   ]
  },
  {
   "cell_type": "code",
   "execution_count": 30,
   "metadata": {},
   "outputs": [
    {
     "name": "stdout",
     "output_type": "stream",
     "text": [
      "Support Vector Machine\n",
      "Accuracy: 0.875\n",
      "F1 Score: 0.875\n",
      "Correct Predictions: 14\n",
      "Incorrect Predictions: 2\n",
      "Confusion Matrix:\n"
     ]
    },
    {
     "data": {
      "image/png": "[encoded data removed]",
      "text/plain": [
       "<Figure size 432x288 with 2 Axes>"
      ]
     },
     "metadata": {
      "needs_background": "light"
     },
     "output_type": "display_data"
    }
   ],
   "source": [
    "\n",
    "#Support Vector Machine\n",
    "svm = SVC()\n",
    "svm.fit(X_train, y_train)\n",
    "y_pred = svm.predict(X_test)\n",
    "print(\"Support Vector Machine\")\n",
    "print(\"Accuracy:\",metrics.accuracy_score(y_test, y_pred))\n",
    "print(\"F1 Score:\",metrics.f1_score(y_test, y_pred, average='weighted'))\n",
    "\n",
    "#print number of correct and incorrect predictions\n",
    "print(\"Correct Predictions:\", metrics.accuracy_score(y_test, y_pred, normalize=False))\n",
    "print(\"Incorrect Predictions:\", len(y_test) - metrics.accuracy_score(y_test, y_pred, normalize=False))\n",
    "print(\"Confusion Matrix:\")\n",
    "skplt.metrics.plot_confusion_matrix(y_test, y_pred, normalize=True)\n",
    "plt.show()\n"
   ]
  },
  {
   "cell_type": "code",
   "execution_count": 31,
   "metadata": {},
   "outputs": [
    {
     "name": "stderr",
     "output_type": "stream",
     "text": [
      "c:\\Users\\Hamoo\\anaconda3\\lib\\site-packages\\sklearn\\neural_network\\_multilayer_perceptron.py:692: ConvergenceWarning: Stochastic Optimizer: Maximum iterations (200) reached and the optimization hasn't converged yet.\n",
      "  warnings.warn(\n"
     ]
    },
    {
     "name": "stdout",
     "output_type": "stream",
     "text": [
      "Multilayer Perceptron\n",
      "Accuracy: 1.0\n",
      "F1 Score: 1.0\n",
      "Correct Predictions: 16\n",
      "Incorrect Predictions: 0\n",
      "Confusion Matrix:\n"
     ]
    },
    {
     "data": {
      "image/png": "[encoded data removed]",
      "text/plain": [
       "<Figure size 432x288 with 2 Axes>"
      ]
     },
     "metadata": {
      "needs_background": "light"
     },
     "output_type": "display_data"
    }
   ],
   "source": [
    "\n",
    "#Multilayer Perceptron\n",
    "mlp = MLPClassifier()\n",
    "mlp.fit(X_train, y_train)\n",
    "y_pred = mlp.predict(X_test)\n",
    "print(\"Multilayer Perceptron\")\n",
    "print(\"Accuracy:\",metrics.accuracy_score(y_test, y_pred))\n",
    "print(\"F1 Score:\",metrics.f1_score(y_test, y_pred, average='weighted'))\n",
    "\n",
    "#print number of correct and incorrect predictions\n",
    "print(\"Correct Predictions:\", metrics.accuracy_score(y_test, y_pred, normalize=False))\n",
    "print(\"Incorrect Predictions:\", len(y_test) - metrics.accuracy_score(y_test, y_pred, normalize=False))\n",
    "print(\"Confusion Matrix:\")\n",
    "skplt.metrics.plot_confusion_matrix(y_test, y_pred, normalize=True)\n",
    "plt.show()"
   ]
  },
  {
   "cell_type": "code",
   "execution_count": 32,
   "metadata": {},
   "outputs": [
    {
     "name": "stderr",
     "output_type": "stream",
     "text": [
      "No artists with labels found to put in legend.  Note that artists whose label start with an underscore are ignored when legend() is called with no argument.\n"
     ]
    },
    {
     "name": "stdout",
     "output_type": "stream",
     "text": [
      "shoe_size      0.382201\n",
      "weight         0.191900\n",
      "beard          0.160309\n",
      "height         0.130719\n",
      "scarf          0.072722\n",
      "eye_color      0.032927\n",
      "hair_length    0.029222\n",
      "dtype: float64\n"
     ]
    },
    {
     "data": {
      "image/png": "[encoded data removed]",
      "text/plain": [
       "<Figure size 432x288 with 1 Axes>"
      ]
     },
     "metadata": {
      "needs_background": "light"
     },
     "output_type": "display_data"
    }
   ],
   "source": [
    "#check feature importance\n",
    "feature_imp = pd.Series(rfc.feature_importances_,index=inputs.columns).sort_values(ascending=False)\n",
    "print(feature_imp)\n",
    "\n",
    "#plot feature importance\n",
    "sns.barplot(x=feature_imp, y=feature_imp.index)\n",
    "plt.xlabel('Feature Importance Score')\n",
    "plt.ylabel('Features')\n",
    "plt.title(\"Visualizing Important Features\")\n",
    "plt.legend()\n",
    "plt.show()"
   ]
  },
  {
   "cell_type": "code",
   "execution_count": 41,
   "metadata": {},
   "outputs": [
    {
     "name": "stdout",
     "output_type": "stream",
     "text": [
      "Random Forest Classifier\n",
      "Accuracy: 1.0\n",
      "F1 Score: 1.0\n",
      "Correct Predictions: 16\n",
      "Incorrect Predictions: 0\n",
      "\n",
      "Support Vector Machine\n",
      "Accuracy: 0.875\n",
      "F1 Score: 0.875\n",
      "Correct Predictions: 14\n",
      "Incorrect Predictions: 2\n",
      "\n",
      "Multilayer Perceptron\n",
      "Accuracy: 1.0\n",
      "F1 Score: 1.0\n",
      "Correct Predictions: 16\n",
      "Incorrect Predictions: 0\n"
     ]
    },
    {
     "name": "stderr",
     "output_type": "stream",
     "text": [
      "c:\\Users\\Hamoo\\anaconda3\\lib\\site-packages\\sklearn\\neural_network\\_multilayer_perceptron.py:692: ConvergenceWarning: Stochastic Optimizer: Maximum iterations (200) reached and the optimization hasn't converged yet.\n",
      "  warnings.warn(\n"
     ]
    }
   ],
   "source": [
    "inputs = df\n",
    "inputs = inputs.drop(['shoe_size'], axis=1)\n",
    "inputs = inputs.drop(['weight'], axis=1)\n",
    "\n",
    "#split data into training and testing\n",
    "X_train, X_test, y_train, y_test = train_test_split(inputs, output, test_size=0.2, random_state=1)\n",
    "\n",
    "#random forest classifier\n",
    "rfc = RandomForestClassifier()\n",
    "rfc.fit(X_train, y_train)\n",
    "y_pred = rfc.predict(X_test)\n",
    "print(\"Random Forest Classifier\")\n",
    "print(\"Accuracy:\",metrics.accuracy_score(y_test, y_pred))\n",
    "print(\"F1 Score:\",metrics.f1_score(y_test, y_pred, average='weighted'))\n",
    "\n",
    "#print number of correct and incorrect predictions\n",
    "print(\"Correct Predictions:\", metrics.accuracy_score(y_test, y_pred, normalize=False))\n",
    "print(\"Incorrect Predictions:\", len(y_test) - metrics.accuracy_score(y_test, y_pred, normalize=False))\n",
    "\n",
    "\n",
    "\n",
    "#Support Vector Machine\n",
    "svm = SVC()\n",
    "svm.fit(X_train, y_train)\n",
    "y_pred = svm.predict(X_test)\n",
    "print(\"\\nSupport Vector Machine\")\n",
    "print(\"Accuracy:\",metrics.accuracy_score(y_test, y_pred))\n",
    "print(\"F1 Score:\",metrics.f1_score(y_test, y_pred, average='weighted'))\n",
    "\n",
    "#print number of correct and incorrect predictions\n",
    "print(\"Correct Predictions:\", metrics.accuracy_score(y_test, y_pred, normalize=False))\n",
    "print(\"Incorrect Predictions:\", len(y_test) - metrics.accuracy_score(y_test, y_pred, normalize=False))\n",
    "\n",
    "#Multilayer Perceptron\n",
    "mlp = MLPClassifier()\n",
    "mlp.fit(X_train, y_train)\n",
    "y_pred = mlp.predict(X_test)\n",
    "print(\"\\nMultilayer Perceptron\")\n",
    "print(\"Accuracy:\",metrics.accuracy_score(y_test, y_pred))\n",
    "print(\"F1 Score:\",metrics.f1_score(y_test, y_pred, average='weighted'))\n",
    "\n",
    "#print number of correct and incorrect predictions\n",
    "print(\"Correct Predictions:\", metrics.accuracy_score(y_test, y_pred, normalize=False))\n",
    "print(\"Incorrect Predictions:\", len(y_test) - metrics.accuracy_score(y_test, y_pred, normalize=False))\n"
   ]
  },
  {
   "cell_type": "code",
   "execution_count": 45,
   "metadata": {},
   "outputs": [
    {
     "name": "stdout",
     "output_type": "stream",
     "text": [
      "0.9076923076923078\n",
      "0.9226190476190477\n"
     ]
    }
   ],
   "source": [
    "# Apply Decision Tree Classifier classification algorithm (using Python) on the gender prediction dataset\n",
    "# with Monte Carlo cross-validation and Leave P-Out cross-validation. Report F1 score for both cross-validation\n",
    "# strategies.\n",
    "# Note: You are free to choose any parameter values for both cross-validation strategies, however, you have to\n",
    "# provide these values in your submission document.\n",
    "\n",
    "# Decision Tree Classifier\n",
    "# Apply Decision Tree Classifier classification algorithm (using Python) \n",
    "\n",
    "from sklearn.tree import DecisionTreeClassifier\n",
    "from sklearn.model_selection import train_test_split\n",
    "from sklearn.metrics import confusion_matrix\n",
    "from sklearn.metrics import accuracy_score\n",
    "from sklearn.metrics import f1_score\n",
    "from sklearn.model_selection import cross_val_score\n",
    "from sklearn.model_selection import LeavePOut\n",
    "from sklearn.model_selection import ShuffleSplit\n",
    "\n",
    "\n",
    "# Importing the dataset\n",
    "dataset = df\n",
    "X_test = df.iloc[:, :-1]\n",
    "y = df.iloc[:, -1]\n",
    "\n",
    "# Splitting the dataset into the Training set and Test set\n",
    "X_train, X_test, y_train, y_test = train_test_split(X, y, test_size = 0.2, random_state = 0)\n",
    "\n",
    "# Fitting Decision Tree Classification to the Training set\n",
    "classifier = DecisionTreeClassifier(criterion = 'entropy', random_state = 0)\n",
    "classifier.fit(X_train, y_train)\n",
    "\n",
    "# Predicting the Test set results\n",
    "y_pred = classifier.predict(X_test)\n",
    "\n",
    "# Applying Monte Carlo Cross Validation\n",
    "accuracies = cross_val_score(estimator = classifier, X = X_train, y = y_train, cv = ShuffleSplit(n_splits=10, test_size=0.2, random_state=0))\n",
    "print(accuracies.mean())\n",
    "\n",
    "# Applying Leave P-Out Cross Validation\n",
    "accuracies = cross_val_score(estimator = classifier, X = X_train, y = y_train, cv = LeavePOut(p=2))\n",
    "print(accuracies.mean())\n",
    "\n",
    "\n"
   ]
  },
  {
   "cell_type": "code",
   "execution_count": 47,
   "metadata": {},
   "outputs": [
    {
     "name": "stderr",
     "output_type": "stream",
     "text": [
      "C:\\Users\\Hamoo\\AppData\\Local\\Temp\\ipykernel_5248\\2679143875.py:1: FutureWarning: The frame.append method is deprecated and will be removed from pandas in a future version. Use pandas.concat instead.\n",
      "  df.append({'weight':90,'height':183,'beard':1,'hair_length':1,'shoe_size':45,'scarf':0,'eye_color':1}, ignore_index=True)\n"
     ]
    },
    {
     "data": {
      "text/html": [
       "<div>\n",
       "<style scoped>\n",
       "    .dataframe tbody tr th:only-of-type {\n",
       "        vertical-align: middle;\n",
       "    }\n",
       "\n",
       "    .dataframe tbody tr th {\n",
       "        vertical-align: top;\n",
       "    }\n",
       "\n",
       "    .dataframe thead th {\n",
       "        text-align: right;\n",
       "    }\n",
       "</style>\n",
       "<table border=\"1\" class=\"dataframe\">\n",
       "  <thead>\n",
       "    <tr style=\"text-align: right;\">\n",
       "      <th></th>\n",
       "      <th>weight</th>\n",
       "      <th>height</th>\n",
       "      <th>beard</th>\n",
       "      <th>hair_length</th>\n",
       "      <th>shoe_size</th>\n",
       "      <th>scarf</th>\n",
       "      <th>eye_color</th>\n",
       "      <th>gender</th>\n",
       "    </tr>\n",
       "  </thead>\n",
       "  <tbody>\n",
       "    <tr>\n",
       "      <th>0</th>\n",
       "      <td>71</td>\n",
       "      <td>176</td>\n",
       "      <td>1</td>\n",
       "      <td>3</td>\n",
       "      <td>44</td>\n",
       "      <td>0</td>\n",
       "      <td>0</td>\n",
       "      <td>1.0</td>\n",
       "    </tr>\n",
       "    <tr>\n",
       "      <th>1</th>\n",
       "      <td>68</td>\n",
       "      <td>165</td>\n",
       "      <td>0</td>\n",
       "      <td>0</td>\n",
       "      <td>41</td>\n",
       "      <td>0</td>\n",
       "      <td>0</td>\n",
       "      <td>1.0</td>\n",
       "    </tr>\n",
       "    <tr>\n",
       "      <th>2</th>\n",
       "      <td>62</td>\n",
       "      <td>132</td>\n",
       "      <td>0</td>\n",
       "      <td>2</td>\n",
       "      <td>37</td>\n",
       "      <td>1</td>\n",
       "      <td>1</td>\n",
       "      <td>0.0</td>\n",
       "    </tr>\n",
       "    <tr>\n",
       "      <th>3</th>\n",
       "      <td>65</td>\n",
       "      <td>138</td>\n",
       "      <td>0</td>\n",
       "      <td>1</td>\n",
       "      <td>38</td>\n",
       "      <td>0</td>\n",
       "      <td>3</td>\n",
       "      <td>0.0</td>\n",
       "    </tr>\n",
       "    <tr>\n",
       "      <th>4</th>\n",
       "      <td>70</td>\n",
       "      <td>197</td>\n",
       "      <td>1</td>\n",
       "      <td>2</td>\n",
       "      <td>43</td>\n",
       "      <td>0</td>\n",
       "      <td>3</td>\n",
       "      <td>1.0</td>\n",
       "    </tr>\n",
       "    <tr>\n",
       "      <th>...</th>\n",
       "      <td>...</td>\n",
       "      <td>...</td>\n",
       "      <td>...</td>\n",
       "      <td>...</td>\n",
       "      <td>...</td>\n",
       "      <td>...</td>\n",
       "      <td>...</td>\n",
       "      <td>...</td>\n",
       "    </tr>\n",
       "    <tr>\n",
       "      <th>76</th>\n",
       "      <td>61</td>\n",
       "      <td>98</td>\n",
       "      <td>0</td>\n",
       "      <td>3</td>\n",
       "      <td>37</td>\n",
       "      <td>0</td>\n",
       "      <td>2</td>\n",
       "      <td>0.0</td>\n",
       "    </tr>\n",
       "    <tr>\n",
       "      <th>77</th>\n",
       "      <td>67</td>\n",
       "      <td>119</td>\n",
       "      <td>1</td>\n",
       "      <td>3</td>\n",
       "      <td>40</td>\n",
       "      <td>0</td>\n",
       "      <td>0</td>\n",
       "      <td>1.0</td>\n",
       "    </tr>\n",
       "    <tr>\n",
       "      <th>78</th>\n",
       "      <td>70</td>\n",
       "      <td>190</td>\n",
       "      <td>1</td>\n",
       "      <td>2</td>\n",
       "      <td>43</td>\n",
       "      <td>0</td>\n",
       "      <td>3</td>\n",
       "      <td>1.0</td>\n",
       "    </tr>\n",
       "    <tr>\n",
       "      <th>79</th>\n",
       "      <td>62</td>\n",
       "      <td>142</td>\n",
       "      <td>1</td>\n",
       "      <td>1</td>\n",
       "      <td>37</td>\n",
       "      <td>0</td>\n",
       "      <td>1</td>\n",
       "      <td>0.0</td>\n",
       "    </tr>\n",
       "    <tr>\n",
       "      <th>80</th>\n",
       "      <td>90</td>\n",
       "      <td>183</td>\n",
       "      <td>1</td>\n",
       "      <td>1</td>\n",
       "      <td>45</td>\n",
       "      <td>0</td>\n",
       "      <td>1</td>\n",
       "      <td>NaN</td>\n",
       "    </tr>\n",
       "  </tbody>\n",
       "</table>\n",
       "<p>81 rows × 8 columns</p>\n",
       "</div>"
      ],
      "text/plain": [
       "    weight  height  beard  hair_length  shoe_size  scarf  eye_color  gender\n",
       "0       71     176      1            3         44      0          0     1.0\n",
       "1       68     165      0            0         41      0          0     1.0\n",
       "2       62     132      0            2         37      1          1     0.0\n",
       "3       65     138      0            1         38      0          3     0.0\n",
       "4       70     197      1            2         43      0          3     1.0\n",
       "..     ...     ...    ...          ...        ...    ...        ...     ...\n",
       "76      61      98      0            3         37      0          2     0.0\n",
       "77      67     119      1            3         40      0          0     1.0\n",
       "78      70     190      1            2         43      0          3     1.0\n",
       "79      62     142      1            1         37      0          1     0.0\n",
       "80      90     183      1            1         45      0          1     NaN\n",
       "\n",
       "[81 rows x 8 columns]"
      ]
     },
     "execution_count": 47,
     "metadata": {},
     "output_type": "execute_result"
    }
   ],
   "source": [
    "df.append({'weight':90,'height':183,'beard':1,'hair_length':1,'shoe_size':45,'scarf':0,'eye_color':1}, ignore_index=True)"
   ]
  }
 ],
 "metadata": {
  "kernelspec": {
   "display_name": "base",
   "language": "python",
   "name": "python3"
  },
  "language_info": {
   "codemirror_mode": {
    "name": "ipython",
    "version": 3
   },
   "file_extension": ".py",
   "mimetype": "text/x-python",
   "name": "python",
   "nbconvert_exporter": "python",
   "pygments_lexer": "ipython3",
   "version": "3.9.12"
  },
  "orig_nbformat": 4,
  "vscode": {
   "interpreter": {
    "hash": "0e8f93af7876eec59dbe1f87a62f7a530914ac6912e7d1ed985d2a1af9e5a20e"
   }
  }
 },
 "nbformat": 4,
 "nbformat_minor": 2
}
