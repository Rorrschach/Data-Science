{
 "cells": [
  {
   "cell_type": "code",
   "execution_count": 69,
   "id": "69734fc7",
   "metadata": {},
   "outputs": [],
   "source": [
    "from bs4 import BeautifulSoup\n",
    "import requests"
   ]
  },
  {
   "cell_type": "code",
   "execution_count": 70,
   "outputs": [],
   "source": [
    "site =  requests.get('https://www.google.com/doodles').text"
   ],
   "metadata": {
    "collapsed": false
   }
  },
  {
   "cell_type": "code",
   "execution_count": 71,
   "outputs": [
    {
     "name": "stdout",
     "output_type": "stream",
     "text": [
      "Sep 23, 2022 Saudi Arabia National Day 2022\n",
      "Sep 22, 2022 Teachers' Day 2022 (September 22)\n",
      "Sep 21, 2022 Armenia Independence Day 2022\n",
      "Sep 20, 2022 National Voter Registration Day 2022\n",
      "Sep 19, 2022 Emil Zátopek and Dana Zátopková's 100th Birthday\n",
      "Sep 19, 2022 Respect for the Aged Day 2022\n"
     ]
    }
   ],
   "source": [
    "soup = BeautifulSoup(site,'lxml')\n",
    "events = soup.find_all('li',class_ = 'latest-doodle')\n",
    "\n",
    "for event in events:\n",
    "    title = event.find('input', class_ = 'title').attrs\n",
    "    date = event.find('input', class_ = 'tag').attrs\n",
    "    print( date['value'],title['value'])\n"
   ],
   "metadata": {
    "collapsed": false
   }
  },
  {
   "cell_type": "code",
   "execution_count": 71,
   "outputs": [],
   "source": [],
   "metadata": {
    "collapsed": false
   }
  },
  {
   "cell_type": "code",
   "execution_count": 71,
   "id": "a967356b",
   "metadata": {},
   "outputs": [],
   "source": []
  }
 ],
 "metadata": {
  "kernelspec": {
   "display_name": "Python 3 (ipykernel)",
   "language": "python",
   "name": "python3"
  },
  "language_info": {
   "codemirror_mode": {
    "name": "ipython",
    "version": 3
   },
   "file_extension": ".py",
   "mimetype": "text/x-python",
   "name": "python",
   "nbconvert_exporter": "python",
   "pygments_lexer": "ipython3",
   "version": "3.9.12"
  }
 },
 "nbformat": 4,
 "nbformat_minor": 5
}
